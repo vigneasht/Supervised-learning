{
 "cells": [
  {
   "cell_type": "markdown",
   "metadata": {},
   "source": [
    "# DECISION TREE on personal loan dataset"
   ]
  },
  {
   "cell_type": "markdown",
   "metadata": {},
   "source": [
    "* The data provided is from a Personal Loans Campaign executed by MyBank.\n",
    "* 20000 customers were targeted with an offer of Personal Loans at 10% interest rate.\n",
    "* 2512 customers out of 20000 responded expressing their need for Personal Loan; These customers are labelled as Target = 1 and remaining customers are labelled as Target =0\n",
    "* Split data into Development (70%) and Hold-out (30%) Sample\n",
    "* Build Classification Tree using CART technique\n",
    "* Do necessary pruning\n",
    "* Measure Model Performance on Development Sample\n",
    "* Test Model Performance on Hold Out Sample\n",
    "* Ensure the model is not an overfit model\n",
    "* Identify variables that influence the reponse of a customer"
   ]
  },
  {
   "cell_type": "markdown",
   "metadata": {},
   "source": [
    "\n",
    "\n"
   ]
  },
  {
   "cell_type": "markdown",
   "metadata": {},
   "source": [
    "#### Imports"
   ]
  },
  {
   "cell_type": "code",
   "execution_count": 1,
   "metadata": {},
   "outputs": [],
   "source": [
    "import numpy as np\n",
    "import pandas as pd\n",
    "import seaborn as sns\n",
    "from matplotlib import pyplot as plt\n",
    "from sklearn.model_selection import train_test_split\n",
    "from sklearn.tree import DecisionTreeClassifier\n",
    "from sklearn import metrics\n",
    "from sklearn.metrics import accuracy_score,f1_score,recall_score,precision_score, confusion_matrix\n",
    "%matplotlib inline\n"
   ]
  },
  {
   "cell_type": "code",
   "execution_count": 2,
   "metadata": {},
   "outputs": [
    {
     "data": {
      "text/html": [
       "<div>\n",
       "<style scoped>\n",
       "    .dataframe tbody tr th:only-of-type {\n",
       "        vertical-align: middle;\n",
       "    }\n",
       "\n",
       "    .dataframe tbody tr th {\n",
       "        vertical-align: top;\n",
       "    }\n",
       "\n",
       "    .dataframe thead th {\n",
       "        text-align: right;\n",
       "    }\n",
       "</style>\n",
       "<table border=\"1\" class=\"dataframe\">\n",
       "  <thead>\n",
       "    <tr style=\"text-align: right;\">\n",
       "      <th></th>\n",
       "      <th>Column Name</th>\n",
       "      <th>Description</th>\n",
       "    </tr>\n",
       "  </thead>\n",
       "  <tbody>\n",
       "    <tr>\n",
       "      <th>0</th>\n",
       "      <td>CUST_ID</td>\n",
       "      <td>Customer ID - Unique ID</td>\n",
       "    </tr>\n",
       "    <tr>\n",
       "      <th>1</th>\n",
       "      <td>TARGET</td>\n",
       "      <td>Target Field - 1: Responder, 0: Non-Responder</td>\n",
       "    </tr>\n",
       "    <tr>\n",
       "      <th>2</th>\n",
       "      <td>AGE</td>\n",
       "      <td>Age of the customer in years</td>\n",
       "    </tr>\n",
       "    <tr>\n",
       "      <th>3</th>\n",
       "      <td>GENDER</td>\n",
       "      <td>Gender</td>\n",
       "    </tr>\n",
       "    <tr>\n",
       "      <th>4</th>\n",
       "      <td>BALANCE</td>\n",
       "      <td>Average Monthly Balance</td>\n",
       "    </tr>\n",
       "    <tr>\n",
       "      <th>5</th>\n",
       "      <td>OCCUPATION</td>\n",
       "      <td>Occupation</td>\n",
       "    </tr>\n",
       "    <tr>\n",
       "      <th>6</th>\n",
       "      <td>SCR</td>\n",
       "      <td>Generic Marketing Score</td>\n",
       "    </tr>\n",
       "    <tr>\n",
       "      <th>7</th>\n",
       "      <td>HOLDING_PERIOD</td>\n",
       "      <td>Ability to hold money in the account (Range 0 ...</td>\n",
       "    </tr>\n",
       "    <tr>\n",
       "      <th>8</th>\n",
       "      <td>ACC_TYPE</td>\n",
       "      <td>Account Type - Saving / Current</td>\n",
       "    </tr>\n",
       "    <tr>\n",
       "      <th>9</th>\n",
       "      <td>ACC_OP_DATE</td>\n",
       "      <td>Account Open Date</td>\n",
       "    </tr>\n",
       "    <tr>\n",
       "      <th>10</th>\n",
       "      <td>NO_OF_L_CR_TXNS</td>\n",
       "      <td>No. of Credit Transactions</td>\n",
       "    </tr>\n",
       "    <tr>\n",
       "      <th>11</th>\n",
       "      <td>NO_OF_L_DR_TXNS</td>\n",
       "      <td>No. of Debit Transactions</td>\n",
       "    </tr>\n",
       "    <tr>\n",
       "      <th>12</th>\n",
       "      <td>NO_OF_BR_CSH_WDL_DR_TXNS</td>\n",
       "      <td>No. of Branch Cash Withdrawal Transactions</td>\n",
       "    </tr>\n",
       "    <tr>\n",
       "      <th>13</th>\n",
       "      <td>NO_OF_ATM_DR_TXNS</td>\n",
       "      <td>No. of ATM Debit Transactions</td>\n",
       "    </tr>\n",
       "    <tr>\n",
       "      <th>14</th>\n",
       "      <td>NO_OF_NET_DR_TXNS</td>\n",
       "      <td>No. of Net Debit Transactions</td>\n",
       "    </tr>\n",
       "    <tr>\n",
       "      <th>15</th>\n",
       "      <td>NO_OF_MOB_DR_TXNS</td>\n",
       "      <td>No. of Mobile Banking Debit Transactions</td>\n",
       "    </tr>\n",
       "    <tr>\n",
       "      <th>16</th>\n",
       "      <td>NO_OF_CHQ_DR_TXNS</td>\n",
       "      <td>No. of Cheque Debit Transactions</td>\n",
       "    </tr>\n",
       "    <tr>\n",
       "      <th>17</th>\n",
       "      <td>FLG_HAS_CC</td>\n",
       "      <td>Has Credit Card - 1: Yes, 0: No</td>\n",
       "    </tr>\n",
       "    <tr>\n",
       "      <th>18</th>\n",
       "      <td>AMT_ATM_DR</td>\n",
       "      <td>Amount Withdrawn from ATM</td>\n",
       "    </tr>\n",
       "    <tr>\n",
       "      <th>19</th>\n",
       "      <td>AMT_BR_CSH_WDL_DR</td>\n",
       "      <td>Amount cash withdrawn from Branch</td>\n",
       "    </tr>\n",
       "    <tr>\n",
       "      <th>20</th>\n",
       "      <td>AMT_CHQ_DR</td>\n",
       "      <td>Amount debited by Cheque Transactions</td>\n",
       "    </tr>\n",
       "    <tr>\n",
       "      <th>21</th>\n",
       "      <td>AMT_NET_DR</td>\n",
       "      <td>Amount debited by Net Transactions</td>\n",
       "    </tr>\n",
       "    <tr>\n",
       "      <th>22</th>\n",
       "      <td>AMT_MOB_DR</td>\n",
       "      <td>Amount debited by Mobile Banking Transactions</td>\n",
       "    </tr>\n",
       "    <tr>\n",
       "      <th>23</th>\n",
       "      <td>AMT_L_DR</td>\n",
       "      <td>Total Amount Debited</td>\n",
       "    </tr>\n",
       "    <tr>\n",
       "      <th>24</th>\n",
       "      <td>FLG_HAS_ANY_CHGS</td>\n",
       "      <td>Has any banking charges</td>\n",
       "    </tr>\n",
       "    <tr>\n",
       "      <th>25</th>\n",
       "      <td>AMT_OTH_BK_ATM_USG_CHGS</td>\n",
       "      <td>Amount charged by way of the Other Bank ATM usage</td>\n",
       "    </tr>\n",
       "    <tr>\n",
       "      <th>26</th>\n",
       "      <td>AMT_MIN_BAL_NMC_CHGS</td>\n",
       "      <td>Amount charged by way Minimum Balance not main...</td>\n",
       "    </tr>\n",
       "    <tr>\n",
       "      <th>27</th>\n",
       "      <td>NO_OF_IW_CHQ_BNC_TXNS</td>\n",
       "      <td>Amount charged by way Inward Cheque Bounce</td>\n",
       "    </tr>\n",
       "    <tr>\n",
       "      <th>28</th>\n",
       "      <td>NO_OF_OW_CHQ_BNC_TXNS</td>\n",
       "      <td>Amount charged by way Outward Cheque Bounce</td>\n",
       "    </tr>\n",
       "    <tr>\n",
       "      <th>29</th>\n",
       "      <td>AVG_AMT_PER_ATM_TXN</td>\n",
       "      <td>Avg. Amt withdrawn per ATM Transaction</td>\n",
       "    </tr>\n",
       "    <tr>\n",
       "      <th>30</th>\n",
       "      <td>AVG_AMT_PER_CSH_WDL_TXN</td>\n",
       "      <td>Avg. Amt withdrawn per Cash Withdrawal Transac...</td>\n",
       "    </tr>\n",
       "    <tr>\n",
       "      <th>31</th>\n",
       "      <td>AVG_AMT_PER_CHQ_TXN</td>\n",
       "      <td>Avg. Amt debited per Cheque Transaction</td>\n",
       "    </tr>\n",
       "    <tr>\n",
       "      <th>32</th>\n",
       "      <td>AVG_AMT_PER_NET_TXN</td>\n",
       "      <td>Avg. Amt debited per Net Transaction</td>\n",
       "    </tr>\n",
       "    <tr>\n",
       "      <th>33</th>\n",
       "      <td>AVG_AMT_PER_MOB_TXN</td>\n",
       "      <td>Avg. Amt debited per Mobile Banking Transaction</td>\n",
       "    </tr>\n",
       "    <tr>\n",
       "      <th>34</th>\n",
       "      <td>FLG_HAS_NOMINEE</td>\n",
       "      <td>Has Nominee - 1: Yes, 0: No</td>\n",
       "    </tr>\n",
       "    <tr>\n",
       "      <th>35</th>\n",
       "      <td>FLG_HAS_OLD_LOAN</td>\n",
       "      <td>Has any earlier loan - 1: Yes, 0: No</td>\n",
       "    </tr>\n",
       "  </tbody>\n",
       "</table>\n",
       "</div>"
      ],
      "text/plain": [
       "                 Column Name  \\\n",
       "0                    CUST_ID   \n",
       "1                     TARGET   \n",
       "2                        AGE   \n",
       "3                     GENDER   \n",
       "4                    BALANCE   \n",
       "5                 OCCUPATION   \n",
       "6                        SCR   \n",
       "7             HOLDING_PERIOD   \n",
       "8                   ACC_TYPE   \n",
       "9                ACC_OP_DATE   \n",
       "10           NO_OF_L_CR_TXNS   \n",
       "11           NO_OF_L_DR_TXNS   \n",
       "12  NO_OF_BR_CSH_WDL_DR_TXNS   \n",
       "13         NO_OF_ATM_DR_TXNS   \n",
       "14         NO_OF_NET_DR_TXNS   \n",
       "15         NO_OF_MOB_DR_TXNS   \n",
       "16         NO_OF_CHQ_DR_TXNS   \n",
       "17                FLG_HAS_CC   \n",
       "18                AMT_ATM_DR   \n",
       "19         AMT_BR_CSH_WDL_DR   \n",
       "20                AMT_CHQ_DR   \n",
       "21                AMT_NET_DR   \n",
       "22                AMT_MOB_DR   \n",
       "23                  AMT_L_DR   \n",
       "24          FLG_HAS_ANY_CHGS   \n",
       "25   AMT_OTH_BK_ATM_USG_CHGS   \n",
       "26      AMT_MIN_BAL_NMC_CHGS   \n",
       "27     NO_OF_IW_CHQ_BNC_TXNS   \n",
       "28     NO_OF_OW_CHQ_BNC_TXNS   \n",
       "29       AVG_AMT_PER_ATM_TXN   \n",
       "30   AVG_AMT_PER_CSH_WDL_TXN   \n",
       "31       AVG_AMT_PER_CHQ_TXN   \n",
       "32       AVG_AMT_PER_NET_TXN   \n",
       "33       AVG_AMT_PER_MOB_TXN   \n",
       "34           FLG_HAS_NOMINEE   \n",
       "35          FLG_HAS_OLD_LOAN   \n",
       "\n",
       "                                          Description  \n",
       "0                             Customer ID - Unique ID  \n",
       "1       Target Field - 1: Responder, 0: Non-Responder  \n",
       "2                        Age of the customer in years  \n",
       "3                                              Gender  \n",
       "4                             Average Monthly Balance  \n",
       "5                                          Occupation  \n",
       "6                             Generic Marketing Score  \n",
       "7   Ability to hold money in the account (Range 0 ...  \n",
       "8                     Account Type - Saving / Current  \n",
       "9                                   Account Open Date  \n",
       "10                         No. of Credit Transactions  \n",
       "11                          No. of Debit Transactions  \n",
       "12         No. of Branch Cash Withdrawal Transactions  \n",
       "13                      No. of ATM Debit Transactions  \n",
       "14                      No. of Net Debit Transactions  \n",
       "15           No. of Mobile Banking Debit Transactions  \n",
       "16                   No. of Cheque Debit Transactions  \n",
       "17                    Has Credit Card - 1: Yes, 0: No  \n",
       "18                          Amount Withdrawn from ATM  \n",
       "19                 Amount cash withdrawn from Branch   \n",
       "20              Amount debited by Cheque Transactions  \n",
       "21                 Amount debited by Net Transactions  \n",
       "22      Amount debited by Mobile Banking Transactions  \n",
       "23                               Total Amount Debited  \n",
       "24                            Has any banking charges  \n",
       "25  Amount charged by way of the Other Bank ATM usage  \n",
       "26  Amount charged by way Minimum Balance not main...  \n",
       "27         Amount charged by way Inward Cheque Bounce  \n",
       "28        Amount charged by way Outward Cheque Bounce  \n",
       "29             Avg. Amt withdrawn per ATM Transaction  \n",
       "30  Avg. Amt withdrawn per Cash Withdrawal Transac...  \n",
       "31            Avg. Amt debited per Cheque Transaction  \n",
       "32               Avg. Amt debited per Net Transaction  \n",
       "33    Avg. Amt debited per Mobile Banking Transaction  \n",
       "34                        Has Nominee - 1: Yes, 0: No  \n",
       "35               Has any earlier loan - 1: Yes, 0: No  "
      ]
     },
     "execution_count": 2,
     "metadata": {},
     "output_type": "execute_result"
    }
   ],
   "source": [
    "## Data Dictionary\n",
    "plxsell_dict = pd.read_csv('PL_XSELL_METADATA.csv')\n",
    "plxsell_dict"
   ]
  },
  {
   "cell_type": "markdown",
   "metadata": {},
   "source": [
    "#### Loading csv file"
   ]
  },
  {
   "cell_type": "code",
   "execution_count": 3,
   "metadata": {},
   "outputs": [
    {
     "data": {
      "text/plain": [
       "Index(['CUST_ID', 'TARGET', 'AGE', 'GENDER', 'BALANCE', 'OCCUPATION', 'SCR',\n",
       "       'HOLDING_PERIOD', 'ACC_TYPE', 'LEN_OF_REL', 'NO_OF_L_CR_TXNS',\n",
       "       'NO_OF_L_DR_TXNS', 'TOT_NO_OF_L_TXNS', 'NO_OF_BR_CSH_WDL_DR_TXNS',\n",
       "       'NO_OF_ATM_DR_TXNS', 'NO_OF_NET_DR_TXNS', 'NO_OF_MOB_DR_TXNS',\n",
       "       'NO_OF_CHQ_DR_TXNS', 'FLG_HAS_CC', 'AMT_ATM_DR', 'AMT_BR_CSH_WDL_DR',\n",
       "       'AMT_CHQ_DR', 'AMT_NET_DR', 'AMT_MOB_DR', 'AMT_L_DR',\n",
       "       'FLG_HAS_ANY_CHGS', 'AMT_OTH_BK_ATM_USG_CHGS', 'AMT_MIN_BAL_NMC_CHGS',\n",
       "       'NO_OF_IW_CHQ_BNC_TXNS', 'NO_OF_OW_CHQ_BNC_TXNS', 'AVG_AMT_PER_ATM_TXN',\n",
       "       'AVG_AMT_PER_CSH_WDL_TXN', 'AVG_AMT_PER_CHQ_TXN', 'AVG_AMT_PER_NET_TXN',\n",
       "       'AVG_AMT_PER_MOB_TXN', 'FLG_HAS_NOMINEE', 'FLG_HAS_OLD_LOAN', 'random'],\n",
       "      dtype='object')"
      ]
     },
     "execution_count": 3,
     "metadata": {},
     "output_type": "execute_result"
    }
   ],
   "source": [
    "#Read the csv file\n",
    "df = pd.read_csv('pl_xsell2.csv')\n",
    "df.columns"
   ]
  },
  {
   "cell_type": "markdown",
   "metadata": {},
   "source": [
    "#### To Check Data is Numeric or Categorical?\n"
   ]
  },
  {
   "cell_type": "code",
   "execution_count": 53,
   "metadata": {
    "scrolled": true
   },
   "outputs": [
    {
     "name": "stdout",
     "output_type": "stream",
     "text": [
      "<class 'pandas.core.frame.DataFrame'>\n",
      "RangeIndex: 20000 entries, 0 to 19999\n",
      "Data columns (total 37 columns):\n",
      "CUST_ID                     20000 non-null object\n",
      "TARGET                      20000 non-null category\n",
      "AGE                         20000 non-null float64\n",
      "GENDER                      20000 non-null category\n",
      "BALANCE                     20000 non-null float64\n",
      "OCCUPATION                  20000 non-null category\n",
      "SCR                         20000 non-null int64\n",
      "HOLDING_PERIOD              20000 non-null int64\n",
      "ACC_TYPE                    20000 non-null category\n",
      "LEN_OF_REL                  20000 non-null int64\n",
      "NO_OF_L_CR_TXNS             20000 non-null int64\n",
      "NO_OF_L_DR_TXNS             20000 non-null int64\n",
      "TOT_NO_OF_L_TXNS            20000 non-null int64\n",
      "NO_OF_BR_CSH_WDL_DR_TXNS    20000 non-null int64\n",
      "NO_OF_ATM_DR_TXNS           20000 non-null int64\n",
      "NO_OF_NET_DR_TXNS           20000 non-null int64\n",
      "NO_OF_MOB_DR_TXNS           20000 non-null int64\n",
      "NO_OF_CHQ_DR_TXNS           20000 non-null int64\n",
      "FLG_HAS_CC                  20000 non-null category\n",
      "AMT_ATM_DR                  20000 non-null int64\n",
      "AMT_BR_CSH_WDL_DR           20000 non-null int64\n",
      "AMT_CHQ_DR                  20000 non-null int64\n",
      "AMT_NET_DR                  20000 non-null int64\n",
      "AMT_MOB_DR                  20000 non-null int64\n",
      "AMT_L_DR                    20000 non-null int64\n",
      "FLG_HAS_ANY_CHGS            20000 non-null category\n",
      "AMT_OTH_BK_ATM_USG_CHGS     20000 non-null int64\n",
      "AMT_MIN_BAL_NMC_CHGS        20000 non-null int64\n",
      "NO_OF_IW_CHQ_BNC_TXNS       20000 non-null int64\n",
      "NO_OF_OW_CHQ_BNC_TXNS       20000 non-null int64\n",
      "AVG_AMT_PER_ATM_TXN         20000 non-null int64\n",
      "AVG_AMT_PER_CSH_WDL_TXN     20000 non-null int64\n",
      "AVG_AMT_PER_CHQ_TXN         20000 non-null int64\n",
      "AVG_AMT_PER_NET_TXN         20000 non-null int64\n",
      "AVG_AMT_PER_MOB_TXN         20000 non-null int64\n",
      "FLG_HAS_NOMINEE             20000 non-null category\n",
      "FLG_HAS_OLD_LOAN            20000 non-null category\n",
      "dtypes: category(8), float64(2), int64(26), object(1)\n",
      "memory usage: 4.6+ MB\n"
     ]
    }
   ],
   "source": [
    "#Convert relevant columns to categorical variable\n",
    "df['TARGET'] = df['TARGET'].astype('category')\n",
    "df['FLG_HAS_CC'] = df['FLG_HAS_CC'].astype('category')\n",
    "df['FLG_HAS_ANY_CHGS'] = df['FLG_HAS_ANY_CHGS'].astype('category')  \n",
    "df['FLG_HAS_NOMINEE'] = df['FLG_HAS_NOMINEE'].astype('category')\n",
    "df['FLG_HAS_OLD_LOAN'] = df['FLG_HAS_OLD_LOAN'].astype('category')\n",
    "\n",
    "\n",
    "df['GENDER'] = df['GENDER'].astype('category')\n",
    "df['OCCUPATION'] = df['OCCUPATION'].astype('category')\n",
    "df['ACC_TYPE'] = df['ACC_TYPE'].astype('category')\n",
    "\n",
    "\n",
    "\n",
    "\n",
    "#Get info about datatype of each column\n",
    "df.info()"
   ]
  },
  {
   "cell_type": "code",
   "execution_count": 54,
   "metadata": {},
   "outputs": [],
   "source": [
    "#Drop redundant columns\n",
    "df = df.drop(['CUST_ID'], axis=1) "
   ]
  },
  {
   "cell_type": "code",
   "execution_count": 55,
   "metadata": {},
   "outputs": [],
   "source": [
    "#Create dataframes for X and Y variables\n",
    "x = df.drop([\"TARGET\"], axis=1)\n",
    "y = df[['TARGET']]\n"
   ]
  },
  {
   "cell_type": "code",
   "execution_count": 56,
   "metadata": {},
   "outputs": [],
   "source": [
    "##Convert x to dummy variables\n",
    "x=pd.get_dummies(x)"
   ]
  },
  {
   "cell_type": "code",
   "execution_count": 57,
   "metadata": {},
   "outputs": [],
   "source": [
    "##Train test split\n",
    "from sklearn.model_selection import train_test_split\n",
    "seed = 7\n",
    "np.random.seed(seed)\n",
    "\n",
    "X_train, X_test, y_train, y_test = train_test_split(x, y, test_size=0.30, random_state = 123)"
   ]
  },
  {
   "cell_type": "code",
   "execution_count": 58,
   "metadata": {},
   "outputs": [
    {
     "name": "stdout",
     "output_type": "stream",
     "text": [
      "(14000, 44) (14000, 1)\n",
      "(6000, 44) (6000, 1)\n"
     ]
    }
   ],
   "source": [
    "print (X_train.shape, y_train.shape)\n",
    "print (X_test.shape, y_test.shape)"
   ]
  },
  {
   "cell_type": "markdown",
   "metadata": {},
   "source": [
    "## Splitting the dataset"
   ]
  },
  {
   "cell_type": "markdown",
   "metadata": {},
   "source": [
    "## Model1:- Criterion='gini'"
   ]
  },
  {
   "cell_type": "code",
   "execution_count": 59,
   "metadata": {},
   "outputs": [],
   "source": [
    "model1=DecisionTreeClassifier()"
   ]
  },
  {
   "cell_type": "code",
   "execution_count": 60,
   "metadata": {},
   "outputs": [
    {
     "data": {
      "text/plain": [
       "DecisionTreeClassifier(class_weight=None, criterion='gini', max_depth=None,\n",
       "            max_features=None, max_leaf_nodes=None,\n",
       "            min_impurity_decrease=0.0, min_impurity_split=None,\n",
       "            min_samples_leaf=1, min_samples_split=2,\n",
       "            min_weight_fraction_leaf=0.0, presort=False, random_state=None,\n",
       "            splitter='best')"
      ]
     },
     "execution_count": 60,
     "metadata": {},
     "output_type": "execute_result"
    }
   ],
   "source": [
    "model1.fit(X_train, y_train)\n"
   ]
  },
  {
   "cell_type": "code",
   "execution_count": 61,
   "metadata": {},
   "outputs": [],
   "source": [
    "preds = model1.predict(X_test)"
   ]
  },
  {
   "cell_type": "markdown",
   "metadata": {},
   "source": [
    "## Evaluation Metrics"
   ]
  },
  {
   "cell_type": "code",
   "execution_count": 62,
   "metadata": {},
   "outputs": [
    {
     "name": "stdout",
     "output_type": "stream",
     "text": [
      "confusion matrix = \n",
      " [[4976  243]\n",
      " [ 161  620]]\n"
     ]
    }
   ],
   "source": [
    "#Confusion matrix\n",
    "#Predict for train set\n",
    "\n",
    "\n",
    "from sklearn.metrics import classification_report,confusion_matrix\n",
    "mat_train = confusion_matrix(y_test,preds)\n",
    "\n",
    "print(\"confusion matrix = \\n\",mat_train)"
   ]
  },
  {
   "cell_type": "markdown",
   "metadata": {},
   "source": [
    "## Model1:- Criterion='entropy'"
   ]
  },
  {
   "cell_type": "code",
   "execution_count": 63,
   "metadata": {},
   "outputs": [],
   "source": [
    "model2=DecisionTreeClassifier(criterion='entropy', min_samples_split=5)"
   ]
  },
  {
   "cell_type": "code",
   "execution_count": 64,
   "metadata": {},
   "outputs": [
    {
     "data": {
      "text/plain": [
       "DecisionTreeClassifier(class_weight=None, criterion='entropy', max_depth=None,\n",
       "            max_features=None, max_leaf_nodes=None,\n",
       "            min_impurity_decrease=0.0, min_impurity_split=None,\n",
       "            min_samples_leaf=1, min_samples_split=5,\n",
       "            min_weight_fraction_leaf=0.0, presort=False, random_state=None,\n",
       "            splitter='best')"
      ]
     },
     "execution_count": 64,
     "metadata": {},
     "output_type": "execute_result"
    }
   ],
   "source": [
    "model2.fit(X_train, y_train)"
   ]
  },
  {
   "cell_type": "code",
   "execution_count": 65,
   "metadata": {},
   "outputs": [],
   "source": [
    "preds2 = model2.predict(X_test)"
   ]
  },
  {
   "cell_type": "markdown",
   "metadata": {},
   "source": [
    "## Evaluation Metrics"
   ]
  },
  {
   "cell_type": "code",
   "execution_count": 66,
   "metadata": {},
   "outputs": [
    {
     "name": "stdout",
     "output_type": "stream",
     "text": [
      "confusion matrix = \n",
      " [[4994  225]\n",
      " [ 189  592]]\n"
     ]
    }
   ],
   "source": [
    "#Confusion matrix\n",
    "#Predict for train set\n",
    "\n",
    "\n",
    "from sklearn.metrics import classification_report,confusion_matrix\n",
    "mat_train = confusion_matrix(y_test,preds2)\n",
    "\n",
    "print(\"confusion matrix = \\n\",mat_train)"
   ]
  },
  {
   "cell_type": "code",
   "execution_count": 67,
   "metadata": {},
   "outputs": [
    {
     "data": {
      "text/plain": [
       "array([0.053, 0.084, 0.108, 0.072, 0.074, 0.051, 0.036, 0.023, 0.014,\n",
       "       0.008, 0.005, 0.002, 0.016, 0.045, 0.042, 0.044, 0.019, 0.009,\n",
       "       0.048, 0.   , 0.002, 0.001, 0.002, 0.017, 0.059, 0.042, 0.023,\n",
       "       0.01 , 0.006, 0.004, 0.013, 0.007, 0.016, 0.003, 0.004, 0.003,\n",
       "       0.003, 0.011, 0.002, 0.003, 0.   , 0.003, 0.005, 0.008])"
      ]
     },
     "execution_count": 67,
     "metadata": {},
     "output_type": "execute_result"
    }
   ],
   "source": [
    "np.round(model2.feature_importances_,3)"
   ]
  },
  {
   "cell_type": "code",
   "execution_count": 68,
   "metadata": {},
   "outputs": [
    {
     "name": "stdout",
     "output_type": "stream",
     "text": [
      "{'TARGET': 0.053, 'AGE': 0.084, 'GENDER': 0.108, 'BALANCE': 0.072, 'OCCUPATION': 0.074, 'SCR': 0.051, 'HOLDING_PERIOD': 0.036, 'ACC_TYPE': 0.023, 'LEN_OF_REL': 0.014, 'NO_OF_L_CR_TXNS': 0.008, 'NO_OF_L_DR_TXNS': 0.005, 'TOT_NO_OF_L_TXNS': 0.002, 'NO_OF_BR_CSH_WDL_DR_TXNS': 0.016, 'NO_OF_ATM_DR_TXNS': 0.045, 'NO_OF_NET_DR_TXNS': 0.042, 'NO_OF_MOB_DR_TXNS': 0.044, 'NO_OF_CHQ_DR_TXNS': 0.019, 'FLG_HAS_CC': 0.009, 'AMT_ATM_DR': 0.048, 'AMT_BR_CSH_WDL_DR': 0.0, 'AMT_CHQ_DR': 0.002, 'AMT_NET_DR': 0.001, 'AMT_MOB_DR': 0.002, 'AMT_L_DR': 0.017, 'FLG_HAS_ANY_CHGS': 0.059, 'AMT_OTH_BK_ATM_USG_CHGS': 0.042, 'AMT_MIN_BAL_NMC_CHGS': 0.023, 'NO_OF_IW_CHQ_BNC_TXNS': 0.01, 'NO_OF_OW_CHQ_BNC_TXNS': 0.006, 'AVG_AMT_PER_ATM_TXN': 0.004, 'AVG_AMT_PER_CSH_WDL_TXN': 0.013, 'AVG_AMT_PER_CHQ_TXN': 0.007, 'AVG_AMT_PER_NET_TXN': 0.016, 'AVG_AMT_PER_MOB_TXN': 0.003, 'FLG_HAS_NOMINEE': 0.004, 'FLG_HAS_OLD_LOAN': 0.003}\n"
     ]
    }
   ],
   "source": [
    "print(dict(zip(df.columns, np.round(model2.feature_importances_,3))))"
   ]
  },
  {
   "cell_type": "code",
   "execution_count": 69,
   "metadata": {},
   "outputs": [],
   "source": [
    "dict_varimp = dict(zip(x.columns, np.round(model1.feature_importances_,3)))"
   ]
  },
  {
   "cell_type": "code",
   "execution_count": 70,
   "metadata": {},
   "outputs": [],
   "source": [
    "df_varimp = pd.DataFrame.from_dict(dict_varimp, orient='index')"
   ]
  },
  {
   "cell_type": "code",
   "execution_count": 71,
   "metadata": {
    "scrolled": true
   },
   "outputs": [
    {
     "data": {
      "text/html": [
       "<div>\n",
       "<style scoped>\n",
       "    .dataframe tbody tr th:only-of-type {\n",
       "        vertical-align: middle;\n",
       "    }\n",
       "\n",
       "    .dataframe tbody tr th {\n",
       "        vertical-align: top;\n",
       "    }\n",
       "\n",
       "    .dataframe thead th {\n",
       "        text-align: right;\n",
       "    }\n",
       "</style>\n",
       "<table border=\"1\" class=\"dataframe\">\n",
       "  <thead>\n",
       "    <tr style=\"text-align: right;\">\n",
       "      <th></th>\n",
       "      <th>0</th>\n",
       "    </tr>\n",
       "  </thead>\n",
       "  <tbody>\n",
       "    <tr>\n",
       "      <th>SCR</th>\n",
       "      <td>0.096</td>\n",
       "    </tr>\n",
       "    <tr>\n",
       "      <th>BALANCE</th>\n",
       "      <td>0.087</td>\n",
       "    </tr>\n",
       "    <tr>\n",
       "      <th>HOLDING_PERIOD</th>\n",
       "      <td>0.064</td>\n",
       "    </tr>\n",
       "    <tr>\n",
       "      <th>LEN_OF_REL</th>\n",
       "      <td>0.060</td>\n",
       "    </tr>\n",
       "    <tr>\n",
       "      <th>NO_OF_L_CR_TXNS</th>\n",
       "      <td>0.051</td>\n",
       "    </tr>\n",
       "    <tr>\n",
       "      <th>AVG_AMT_PER_CHQ_TXN</th>\n",
       "      <td>0.051</td>\n",
       "    </tr>\n",
       "    <tr>\n",
       "      <th>AMT_L_DR</th>\n",
       "      <td>0.051</td>\n",
       "    </tr>\n",
       "    <tr>\n",
       "      <th>AGE</th>\n",
       "      <td>0.045</td>\n",
       "    </tr>\n",
       "    <tr>\n",
       "      <th>TOT_NO_OF_L_TXNS</th>\n",
       "      <td>0.044</td>\n",
       "    </tr>\n",
       "    <tr>\n",
       "      <th>AVG_AMT_PER_CSH_WDL_TXN</th>\n",
       "      <td>0.043</td>\n",
       "    </tr>\n",
       "    <tr>\n",
       "      <th>AMT_CHQ_DR</th>\n",
       "      <td>0.043</td>\n",
       "    </tr>\n",
       "    <tr>\n",
       "      <th>AMT_BR_CSH_WDL_DR</th>\n",
       "      <td>0.041</td>\n",
       "    </tr>\n",
       "    <tr>\n",
       "      <th>AVG_AMT_PER_NET_TXN</th>\n",
       "      <td>0.038</td>\n",
       "    </tr>\n",
       "    <tr>\n",
       "      <th>AMT_ATM_DR</th>\n",
       "      <td>0.033</td>\n",
       "    </tr>\n",
       "    <tr>\n",
       "      <th>AVG_AMT_PER_ATM_TXN</th>\n",
       "      <td>0.029</td>\n",
       "    </tr>\n",
       "    <tr>\n",
       "      <th>NO_OF_L_DR_TXNS</th>\n",
       "      <td>0.026</td>\n",
       "    </tr>\n",
       "    <tr>\n",
       "      <th>AMT_NET_DR</th>\n",
       "      <td>0.022</td>\n",
       "    </tr>\n",
       "    <tr>\n",
       "      <th>OCCUPATION_SELF_EMP</th>\n",
       "      <td>0.021</td>\n",
       "    </tr>\n",
       "    <tr>\n",
       "      <th>AVG_AMT_PER_MOB_TXN</th>\n",
       "      <td>0.021</td>\n",
       "    </tr>\n",
       "    <tr>\n",
       "      <th>NO_OF_BR_CSH_WDL_DR_TXNS</th>\n",
       "      <td>0.018</td>\n",
       "    </tr>\n",
       "    <tr>\n",
       "      <th>AMT_MOB_DR</th>\n",
       "      <td>0.017</td>\n",
       "    </tr>\n",
       "    <tr>\n",
       "      <th>OCCUPATION_SAL</th>\n",
       "      <td>0.014</td>\n",
       "    </tr>\n",
       "    <tr>\n",
       "      <th>FLG_HAS_OLD_LOAN_1</th>\n",
       "      <td>0.011</td>\n",
       "    </tr>\n",
       "    <tr>\n",
       "      <th>NO_OF_NET_DR_TXNS</th>\n",
       "      <td>0.006</td>\n",
       "    </tr>\n",
       "    <tr>\n",
       "      <th>NO_OF_ATM_DR_TXNS</th>\n",
       "      <td>0.006</td>\n",
       "    </tr>\n",
       "    <tr>\n",
       "      <th>OCCUPATION_SENP</th>\n",
       "      <td>0.005</td>\n",
       "    </tr>\n",
       "    <tr>\n",
       "      <th>ACC_TYPE_SA</th>\n",
       "      <td>0.005</td>\n",
       "    </tr>\n",
       "    <tr>\n",
       "      <th>NO_OF_CHQ_DR_TXNS</th>\n",
       "      <td>0.005</td>\n",
       "    </tr>\n",
       "    <tr>\n",
       "      <th>FLG_HAS_CC_1</th>\n",
       "      <td>0.005</td>\n",
       "    </tr>\n",
       "    <tr>\n",
       "      <th>GENDER_F</th>\n",
       "      <td>0.005</td>\n",
       "    </tr>\n",
       "    <tr>\n",
       "      <th>GENDER_M</th>\n",
       "      <td>0.005</td>\n",
       "    </tr>\n",
       "    <tr>\n",
       "      <th>FLG_HAS_ANY_CHGS_1</th>\n",
       "      <td>0.004</td>\n",
       "    </tr>\n",
       "    <tr>\n",
       "      <th>FLG_HAS_CC_0</th>\n",
       "      <td>0.004</td>\n",
       "    </tr>\n",
       "    <tr>\n",
       "      <th>NO_OF_OW_CHQ_BNC_TXNS</th>\n",
       "      <td>0.004</td>\n",
       "    </tr>\n",
       "    <tr>\n",
       "      <th>OCCUPATION_PROF</th>\n",
       "      <td>0.003</td>\n",
       "    </tr>\n",
       "    <tr>\n",
       "      <th>FLG_HAS_NOMINEE_0</th>\n",
       "      <td>0.003</td>\n",
       "    </tr>\n",
       "    <tr>\n",
       "      <th>FLG_HAS_NOMINEE_1</th>\n",
       "      <td>0.003</td>\n",
       "    </tr>\n",
       "    <tr>\n",
       "      <th>FLG_HAS_OLD_LOAN_0</th>\n",
       "      <td>0.003</td>\n",
       "    </tr>\n",
       "    <tr>\n",
       "      <th>FLG_HAS_ANY_CHGS_0</th>\n",
       "      <td>0.002</td>\n",
       "    </tr>\n",
       "    <tr>\n",
       "      <th>NO_OF_IW_CHQ_BNC_TXNS</th>\n",
       "      <td>0.002</td>\n",
       "    </tr>\n",
       "    <tr>\n",
       "      <th>ACC_TYPE_CA</th>\n",
       "      <td>0.001</td>\n",
       "    </tr>\n",
       "    <tr>\n",
       "      <th>AMT_MIN_BAL_NMC_CHGS</th>\n",
       "      <td>0.001</td>\n",
       "    </tr>\n",
       "    <tr>\n",
       "      <th>NO_OF_MOB_DR_TXNS</th>\n",
       "      <td>0.001</td>\n",
       "    </tr>\n",
       "    <tr>\n",
       "      <th>AMT_OTH_BK_ATM_USG_CHGS</th>\n",
       "      <td>0.000</td>\n",
       "    </tr>\n",
       "  </tbody>\n",
       "</table>\n",
       "</div>"
      ],
      "text/plain": [
       "                              0\n",
       "SCR                       0.096\n",
       "BALANCE                   0.087\n",
       "HOLDING_PERIOD            0.064\n",
       "LEN_OF_REL                0.060\n",
       "NO_OF_L_CR_TXNS           0.051\n",
       "AVG_AMT_PER_CHQ_TXN       0.051\n",
       "AMT_L_DR                  0.051\n",
       "AGE                       0.045\n",
       "TOT_NO_OF_L_TXNS          0.044\n",
       "AVG_AMT_PER_CSH_WDL_TXN   0.043\n",
       "AMT_CHQ_DR                0.043\n",
       "AMT_BR_CSH_WDL_DR         0.041\n",
       "AVG_AMT_PER_NET_TXN       0.038\n",
       "AMT_ATM_DR                0.033\n",
       "AVG_AMT_PER_ATM_TXN       0.029\n",
       "NO_OF_L_DR_TXNS           0.026\n",
       "AMT_NET_DR                0.022\n",
       "OCCUPATION_SELF_EMP       0.021\n",
       "AVG_AMT_PER_MOB_TXN       0.021\n",
       "NO_OF_BR_CSH_WDL_DR_TXNS  0.018\n",
       "AMT_MOB_DR                0.017\n",
       "OCCUPATION_SAL            0.014\n",
       "FLG_HAS_OLD_LOAN_1        0.011\n",
       "NO_OF_NET_DR_TXNS         0.006\n",
       "NO_OF_ATM_DR_TXNS         0.006\n",
       "OCCUPATION_SENP           0.005\n",
       "ACC_TYPE_SA               0.005\n",
       "NO_OF_CHQ_DR_TXNS         0.005\n",
       "FLG_HAS_CC_1              0.005\n",
       "GENDER_F                  0.005\n",
       "GENDER_M                  0.005\n",
       "FLG_HAS_ANY_CHGS_1        0.004\n",
       "FLG_HAS_CC_0              0.004\n",
       "NO_OF_OW_CHQ_BNC_TXNS     0.004\n",
       "OCCUPATION_PROF           0.003\n",
       "FLG_HAS_NOMINEE_0         0.003\n",
       "FLG_HAS_NOMINEE_1         0.003\n",
       "FLG_HAS_OLD_LOAN_0        0.003\n",
       "FLG_HAS_ANY_CHGS_0        0.002\n",
       "NO_OF_IW_CHQ_BNC_TXNS     0.002\n",
       "ACC_TYPE_CA               0.001\n",
       "AMT_MIN_BAL_NMC_CHGS      0.001\n",
       "NO_OF_MOB_DR_TXNS         0.001\n",
       "AMT_OTH_BK_ATM_USG_CHGS   0.000"
      ]
     },
     "execution_count": 71,
     "metadata": {},
     "output_type": "execute_result"
    }
   ],
   "source": [
    "df_varimp = df_varimp.sort_values(by=0, ascending=False)\n",
    "df_varimp"
   ]
  },
  {
   "cell_type": "code",
   "execution_count": 72,
   "metadata": {},
   "outputs": [],
   "source": [
    "from sklearn.tree import export_graphviz\n",
    "from sklearn.externals.six import StringIO  \n",
    "from IPython.display import Image  \n",
    "import pydotplus\n",
    "import graphviz"
   ]
  },
  {
   "cell_type": "code",
   "execution_count": 73,
   "metadata": {},
   "outputs": [],
   "source": [
    "feature_cols = x.columns"
   ]
  },
  {
   "cell_type": "code",
   "execution_count": 74,
   "metadata": {},
   "outputs": [
    {
     "data": {
      "text/plain": [
       "DecisionTreeClassifier(class_weight=None, criterion='gini', max_depth=3,\n",
       "            max_features=None, max_leaf_nodes=None,\n",
       "            min_impurity_decrease=0.0, min_impurity_split=None,\n",
       "            min_samples_leaf=1, min_samples_split=2,\n",
       "            min_weight_fraction_leaf=0.0, presort=False, random_state=None,\n",
       "            splitter='best')"
      ]
     },
     "execution_count": 74,
     "metadata": {},
     "output_type": "execute_result"
    }
   ],
   "source": [
    "model_pruned=DecisionTreeClassifier(max_depth=3)\n",
    "model_pruned.fit(X_train, y_train)"
   ]
  },
  {
   "cell_type": "code",
   "execution_count": 75,
   "metadata": {},
   "outputs": [
    {
     "data": {
      "image/png": "[encoded data removed]",
      "text/plain": [
       "<IPython.core.display.Image object>"
      ]
     },
     "execution_count": 75,
     "metadata": {},
     "output_type": "execute_result"
    }
   ],
   "source": [
    "dot_data = StringIO()\n",
    "export_graphviz(model_pruned, out_file=dot_data,  \n",
    "                filled=True, rounded=True,\n",
    "                special_characters=True,feature_names = feature_cols,class_names=['0','1'])\n",
    "graph = pydotplus.graph_from_dot_data(dot_data.getvalue())  \n",
    "graph.write_png('wines_entropy.png')\n",
    "Image(graph.create_png())"
   ]
  },
  {
   "cell_type": "code",
   "execution_count": 76,
   "metadata": {},
   "outputs": [
    {
     "data": {
      "text/plain": [
       "array([0.05897589, 0.05897589, 0.1174562 , 0.1174562 , 0.101875  ,\n",
       "       0.101875  , 0.05897589, 0.101875  , 0.05897589, 0.05897589,\n",
       "       0.05897589, 0.05897589, 0.1174562 , 0.101875  , 0.05897589,\n",
       "       0.101875  , 0.1174562 , 0.18348624, 0.05897589])"
      ]
     },
     "execution_count": 76,
     "metadata": {},
     "output_type": "execute_result"
    }
   ],
   "source": [
    "# store the predicted probabilities for class 1\n",
    "y_pred_prob = model_pruned.predict_proba(X_test)[:, 1]\n",
    "y_pred_prob[1:20]"
   ]
  },
  {
   "cell_type": "code",
   "execution_count": 32,
   "metadata": {},
   "outputs": [
    {
     "data": {
      "text/plain": [
       "Text(0,0.5,'Frequency')"
      ]
     },
     "execution_count": 32,
     "metadata": {},
     "output_type": "execute_result"
    },
    {
     "data": {
      "image/png": "[encoded data removed]",
      "text/plain": [
       "<matplotlib.figure.Figure at 0x29ab64c9ef0>"
      ]
     },
     "metadata": {},
     "output_type": "display_data"
    }
   ],
   "source": [
    "# histogram of predicted probabilities\n",
    "\n",
    "# 8 bins\n",
    "plt.hist(y_pred_prob, bins=10)\n",
    "\n",
    "# x-axis limit from 0 to 1\n",
    "plt.xlim(0,1)\n",
    "plt.title('Histogram of predicted probabilities')\n",
    "plt.xlabel('Predicted probability of diabetes')\n",
    "plt.ylabel('Frequency')"
   ]
  },
  {
   "cell_type": "code",
   "execution_count": 78,
   "metadata": {},
   "outputs": [
    {
     "name": "stdout",
     "output_type": "stream",
     "text": [
      "\n",
      "******** For i = 0.05 ******\n",
      "Our testing accuracy is 0.13\n",
      "[[   0 5219]\n",
      " [   0  781]]\n",
      "\n",
      "******** For i = 0.06 ******\n",
      "Our testing accuracy is 0.46\n",
      "[[2100 3119]\n",
      " [ 134  647]]\n",
      "\n",
      "******** For i = 0.07 ******\n",
      "Our testing accuracy is 0.46\n",
      "[[2100 3119]\n",
      " [ 134  647]]\n",
      "\n",
      "******** For i = 0.08 ******\n",
      "Our testing accuracy is 0.46\n",
      "[[2100 3119]\n",
      " [ 134  647]]\n",
      "\n",
      "******** For i = 0.09 ******\n",
      "Our testing accuracy is 0.46\n",
      "[[2100 3119]\n",
      " [ 134  647]]\n",
      "\n",
      "******** For i = 0.1 ******\n",
      "Our testing accuracy is 0.46\n",
      "[[2100 3119]\n",
      " [ 134  647]]\n",
      "\n",
      "******** For i = 0.11 ******\n",
      "Our testing accuracy is 0.54\n",
      "[[2649 2570]\n",
      " [ 215  566]]\n",
      "\n",
      "******** For i = 0.12 ******\n",
      "Our testing accuracy is 0.70\n",
      "[[3796 1423]\n",
      " [ 384  397]]\n",
      "\n",
      "******** For i = 0.13 ******\n",
      "Our testing accuracy is 0.70\n",
      "[[3796 1423]\n",
      " [ 384  397]]\n",
      "\n",
      "******** For i = 0.14 ******\n",
      "Our testing accuracy is 0.70\n",
      "[[3796 1423]\n",
      " [ 384  397]]\n",
      "\n",
      "******** For i = 0.15 ******\n",
      "Our testing accuracy is 0.74\n",
      "[[4070 1149]\n",
      " [ 431  350]]\n",
      "\n",
      "******** For i = 0.19 ******\n",
      "Our testing accuracy is 0.78\n",
      "[[4415  804]\n",
      " [ 514  267]]\n",
      "\n",
      "******** For i = 0.2 ******\n",
      "Our testing accuracy is 0.78\n",
      "[[4415  804]\n",
      " [ 514  267]]\n",
      "\n",
      "******** For i = 0.25 ******\n",
      "Our testing accuracy is 0.87\n",
      "[[5157   62]\n",
      " [ 721   60]]\n",
      "\n",
      "******** For i = 0.3 ******\n",
      "Our testing accuracy is 0.87\n",
      "[[5157   62]\n",
      " [ 721   60]]\n",
      "\n",
      "******** For i = 0.4 ******\n",
      "Our testing accuracy is 0.87\n",
      "[[5157   62]\n",
      " [ 721   60]]\n",
      "\n",
      "******** For i = 0.5 ******\n",
      "Our testing accuracy is 0.87\n",
      "[[5219    0]\n",
      " [ 781    0]]\n"
     ]
    }
   ],
   "source": [
    "## Changing the cut off value for prediction\n",
    "pred_proba_df = pd.DataFrame(model_pruned.predict_proba(X_test))\n",
    "threshold_list = [0.05,0.06,0.07,0.08,0.09,0.1,0.11,0.12,0.13,0.14,0.15,0.19,0.2,0.25,0.3,0.4,0.5]\n",
    "for i in threshold_list:\n",
    "    print ('\\n******** For i = {} ******'.format(i))\n",
    "    y_test_pred = pred_proba_df.applymap(lambda x: 1 if x>i else 0)\n",
    "    test_accuracy = metrics.accuracy_score(y_test.as_matrix().reshape(y_test.as_matrix().size,1),\n",
    "                                           y_test_pred.iloc[:,1].as_matrix().reshape(y_test_pred.iloc[:,1].as_matrix().size,1))\n",
    "    print('Our testing accuracy is {:.2f}'.format(test_accuracy))\n",
    "\n",
    "    print(confusion_matrix(y_test.as_matrix().reshape(y_test.as_matrix().size,1),\n",
    "                           y_test_pred.iloc[:,1].as_matrix().reshape(y_test_pred.iloc[:,1].as_matrix().size,1)))"
   ]
  },
  {
   "cell_type": "code",
   "execution_count": 36,
   "metadata": {},
   "outputs": [],
   "source": [
    "from sklearn.model_selection import train_test_split, GridSearchCV, StratifiedKFold\n",
    "from sklearn.metrics import roc_curve, precision_recall_curve, auc, make_scorer, recall_score, accuracy_score, precision_score, confusion_matrix\n",
    "\n"
   ]
  },
  {
   "cell_type": "code",
   "execution_count": 79,
   "metadata": {},
   "outputs": [],
   "source": [
    "clf = DecisionTreeClassifier()\n",
    "\n",
    "param_grid = {\n",
    "    'max_depth': [3, 4, 5,6,7,8],\n",
    "    }\n",
    "\n",
    "scorers = {\n",
    "    'precision_score': make_scorer(precision_score),\n",
    "    'recall_score': make_scorer(recall_score),\n",
    "    'accuracy_score': make_scorer(accuracy_score)\n",
    "}"
   ]
  },
  {
   "cell_type": "code",
   "execution_count": 80,
   "metadata": {},
   "outputs": [],
   "source": [
    "def grid_search_wrapper(refit_score='precision_score'):\n",
    "    \"\"\"\n",
    "    fits a GridSearchCV classifier using refit_score for optimization\n",
    "    prints classifier performance metrics\n",
    "    \"\"\"\n",
    "    skf = StratifiedKFold(n_splits=10)\n",
    "    grid_search = GridSearchCV(clf, param_grid, scoring=scorers, refit=refit_score,\n",
    "                           cv=skf, return_train_score=True, n_jobs=-1)\n",
    "    grid_search.fit(X_train.values, y_train.values)\n",
    "\n",
    "    # make the predictions\n",
    "    y_pred = grid_search.predict(X_test.values)\n",
    "\n",
    "    print('Best params for {}'.format(refit_score))\n",
    "    print(grid_search.best_params_)\n",
    "\n",
    "    # confusion matrix on the test data.\n",
    "    print('\\nConfusion matrix of optimized for {} on the test data:'.format(refit_score))\n",
    "    print(pd.DataFrame(confusion_matrix(y_test, y_pred),\n",
    "                 columns=['pred_neg', 'pred_pos'], index=['neg', 'pos']))\n",
    "    return grid_search"
   ]
  },
  {
   "cell_type": "code",
   "execution_count": 81,
   "metadata": {},
   "outputs": [
    {
     "name": "stdout",
     "output_type": "stream",
     "text": [
      "Best params for recall_score\n",
      "{'max_depth': 8}\n",
      "\n",
      "Confusion matrix of optimized for recall_score on the test data:\n",
      "     pred_neg  pred_pos\n",
      "neg      5108       111\n",
      "pos       581       200\n"
     ]
    }
   ],
   "source": [
    "grid_search_clf = grid_search_wrapper(refit_score='recall_score')"
   ]
  },
  {
   "cell_type": "code",
   "execution_count": 82,
   "metadata": {},
   "outputs": [
    {
     "data": {
      "text/html": [
       "<div>\n",
       "<style scoped>\n",
       "    .dataframe tbody tr th:only-of-type {\n",
       "        vertical-align: middle;\n",
       "    }\n",
       "\n",
       "    .dataframe tbody tr th {\n",
       "        vertical-align: top;\n",
       "    }\n",
       "\n",
       "    .dataframe thead th {\n",
       "        text-align: right;\n",
       "    }\n",
       "</style>\n",
       "<table border=\"1\" class=\"dataframe\">\n",
       "  <thead>\n",
       "    <tr style=\"text-align: right;\">\n",
       "      <th></th>\n",
       "      <th>mean_test_precision_score</th>\n",
       "      <th>mean_test_recall_score</th>\n",
       "      <th>mean_test_accuracy_score</th>\n",
       "      <th>param_max_depth</th>\n",
       "    </tr>\n",
       "  </thead>\n",
       "  <tbody>\n",
       "    <tr>\n",
       "      <th>5</th>\n",
       "      <td>0.636</td>\n",
       "      <td>0.215</td>\n",
       "      <td>0.887</td>\n",
       "      <td>8</td>\n",
       "    </tr>\n",
       "    <tr>\n",
       "      <th>4</th>\n",
       "      <td>0.612</td>\n",
       "      <td>0.150</td>\n",
       "      <td>0.883</td>\n",
       "      <td>7</td>\n",
       "    </tr>\n",
       "    <tr>\n",
       "      <th>3</th>\n",
       "      <td>0.546</td>\n",
       "      <td>0.109</td>\n",
       "      <td>0.879</td>\n",
       "      <td>6</td>\n",
       "    </tr>\n",
       "    <tr>\n",
       "      <th>1</th>\n",
       "      <td>0.538</td>\n",
       "      <td>0.032</td>\n",
       "      <td>0.876</td>\n",
       "      <td>4</td>\n",
       "    </tr>\n",
       "    <tr>\n",
       "      <th>2</th>\n",
       "      <td>0.472</td>\n",
       "      <td>0.063</td>\n",
       "      <td>0.875</td>\n",
       "      <td>5</td>\n",
       "    </tr>\n",
       "    <tr>\n",
       "      <th>0</th>\n",
       "      <td>0.344</td>\n",
       "      <td>0.009</td>\n",
       "      <td>0.876</td>\n",
       "      <td>3</td>\n",
       "    </tr>\n",
       "  </tbody>\n",
       "</table>\n",
       "</div>"
      ],
      "text/plain": [
       "   mean_test_precision_score  mean_test_recall_score  \\\n",
       "5                      0.636                   0.215   \n",
       "4                      0.612                   0.150   \n",
       "3                      0.546                   0.109   \n",
       "1                      0.538                   0.032   \n",
       "2                      0.472                   0.063   \n",
       "0                      0.344                   0.009   \n",
       "\n",
       "   mean_test_accuracy_score param_max_depth  \n",
       "5                     0.887               8  \n",
       "4                     0.883               7  \n",
       "3                     0.879               6  \n",
       "1                     0.876               4  \n",
       "2                     0.875               5  \n",
       "0                     0.876               3  "
      ]
     },
     "execution_count": 82,
     "metadata": {},
     "output_type": "execute_result"
    }
   ],
   "source": [
    "results = pd.DataFrame(grid_search_clf.cv_results_)\n",
    "results = results.sort_values(by='mean_test_precision_score', ascending=False)\n",
    "results[['mean_test_precision_score', 'mean_test_recall_score', 'mean_test_accuracy_score', 'param_max_depth']].round(3)"
   ]
  },
  {
   "cell_type": "code",
   "execution_count": 83,
   "metadata": {},
   "outputs": [],
   "source": [
    "y_scores = grid_search_clf.predict_proba(X_test)[:, 1]\n"
   ]
  },
  {
   "cell_type": "code",
   "execution_count": 84,
   "metadata": {},
   "outputs": [],
   "source": [
    "p, r, thresholds = precision_recall_curve(y_test, y_scores)"
   ]
  },
  {
   "cell_type": "code",
   "execution_count": 85,
   "metadata": {},
   "outputs": [],
   "source": [
    "def adjusted_classes(y_scores, t):\n",
    "    \"\"\"\n",
    "    This function adjusts class predictions based on the prediction threshold (t).\n",
    "    Will only work for binary classification problems.\n",
    "    \"\"\"\n",
    "    return [1 if y >= t else 0 for y in y_scores]\n",
    "\n",
    "def precision_recall_threshold(p, r, thresholds, t=0.5):\n",
    "    \"\"\"\n",
    "    plots the precision recall curve and shows the current value for each\n",
    "    by identifying the classifier's threshold (t).\n",
    "    \"\"\"\n",
    "    \n",
    "    # generate new class predictions based on the adjusted_classes\n",
    "    # function above and view the resulting confusion matrix.\n",
    "    y_pred_adj = adjusted_classes(y_scores, t)\n",
    "    print(pd.DataFrame(confusion_matrix(y_test, y_pred_adj),\n",
    "                       columns=['pred_neg', 'pred_pos'], \n",
    "                       index=['neg', 'pos']))\n",
    "    \n",
    "    \n",
    "   "
   ]
  },
  {
   "cell_type": "code",
   "execution_count": 86,
   "metadata": {},
   "outputs": [
    {
     "name": "stdout",
     "output_type": "stream",
     "text": [
      "     pred_neg  pred_pos\n",
      "neg      4492       727\n",
      "pos       391       390\n"
     ]
    }
   ],
   "source": [
    "precision_recall_threshold(p, r, thresholds, 0.17)"
   ]
  },
  {
   "cell_type": "code",
   "execution_count": 87,
   "metadata": {},
   "outputs": [],
   "source": [
    "def plot_precision_recall_vs_threshold(precisions, recalls, thresholds):\n",
    "    \"\"\"\n",
    "    Modified from:\n",
    "    Hands-On Machine learning with Scikit-Learn\n",
    "    and TensorFlow; p.89\n",
    "    \"\"\"\n",
    "    plt.figure(figsize=(8, 8))\n",
    "    plt.title(\"Precision and Recall Scores as a function of the decision threshold\")\n",
    "    plt.plot(thresholds, precisions[:-1], \"b--\", label=\"Precision\")\n",
    "    plt.plot(thresholds, recalls[:-1], \"g-\", label=\"Recall\")\n",
    "    plt.ylabel(\"Score\")\n",
    "    plt.xlabel(\"Decision Threshold\")\n",
    "    plt.legend(loc='best')"
   ]
  },
  {
   "cell_type": "code",
   "execution_count": 88,
   "metadata": {},
   "outputs": [
    {
     "data": {
      "image/png": "[encoded data removed]",
      "text/plain": [
       "<matplotlib.figure.Figure at 0x29ab6431748>"
      ]
     },
     "metadata": {},
     "output_type": "display_data"
    }
   ],
   "source": [
    "# use the same p, r, thresholds that were previously calculated\n",
    "plot_precision_recall_vs_threshold(p, r, thresholds)"
   ]
  },
  {
   "cell_type": "code",
   "execution_count": null,
   "metadata": {},
   "outputs": [],
   "source": []
  }
 ],
 "metadata": {
  "kernelspec": {
   "display_name": "Python 3",
   "language": "python",
   "name": "python3"
  },
  "language_info": {
   "codemirror_mode": {
    "name": "ipython",
    "version": 3
   },
   "file_extension": ".py",
   "mimetype": "text/x-python",
   "name": "python",
   "nbconvert_exporter": "python",
   "pygments_lexer": "ipython3",
   "version": "3.7.3"
  }
 },
 "nbformat": 4,
 "nbformat_minor": 2
}
