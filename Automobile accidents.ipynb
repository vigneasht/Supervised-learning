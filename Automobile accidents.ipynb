{
 "cells": [
  {
   "cell_type": "markdown",
   "metadata": {},
   "source": [
    "# NAIVE BAYES CLASSIFIER"
   ]
  },
  {
   "cell_type": "markdown",
   "metadata": {},
   "source": [
    "## Understand the data"
   ]
  },
  {
   "cell_type": "markdown",
   "metadata": {},
   "source": [
    "### Automobile accidents\n",
    "\n",
    "The file Accidents.csv contains information on 42,183 actual automobile accidents in 2001 in the United States that involved one of three levels of injury: NO INJURY, INJURY, or FATALITY. For each accident, additional information is recorded, such as day of week, weather conditions, and road type. <br>\n",
    "A firm might be interested in developing a system for quickly classifying the severity of an\n",
    "accident based on initial reports and associated data in the system (some of which rely\n",
    "on GPS-assisted reporting). <br>\n",
    "\n",
    "## Objective\n",
    "* predict whether the accident will be a serious one based on the provided data"
   ]
  },
  {
   "cell_type": "markdown",
   "metadata": {},
   "source": [
    "## Implement the model using Python"
   ]
  },
  {
   "cell_type": "markdown",
   "metadata": {},
   "source": [
    "#### Imports"
   ]
  },
  {
   "cell_type": "code",
   "execution_count": 6,
   "metadata": {},
   "outputs": [],
   "source": [
    "import pandas as pd\n",
    "import numpy as np\n",
    "import matplotlib.pyplot as plt\n",
    "import seaborn as sns\n",
    "from sklearn import metrics\n",
    "from sklearn.naive_bayes import GaussianNB \n",
    "from sklearn.model_selection import train_test_split \n",
    "from sklearn.metrics import confusion_matrix,auc,roc_auc_score\n",
    "from sklearn.metrics import recall_score, precision_score, accuracy_score, f1_score\n",
    "\n",
    "% matplotlib inline"
   ]
  },
  {
   "cell_type": "markdown",
   "metadata": {},
   "source": [
    "#### Load Pima Dataset"
   ]
  },
  {
   "cell_type": "code",
   "execution_count": 7,
   "metadata": {
    "scrolled": false
   },
   "outputs": [
    {
     "data": {
      "text/html": [
       "<div>\n",
       "<style scoped>\n",
       "    .dataframe tbody tr th:only-of-type {\n",
       "        vertical-align: middle;\n",
       "    }\n",
       "\n",
       "    .dataframe tbody tr th {\n",
       "        vertical-align: top;\n",
       "    }\n",
       "\n",
       "    .dataframe thead th {\n",
       "        text-align: right;\n",
       "    }\n",
       "</style>\n",
       "<table border=\"1\" class=\"dataframe\">\n",
       "  <thead>\n",
       "    <tr style=\"text-align: right;\">\n",
       "      <th></th>\n",
       "      <th>RushHour</th>\n",
       "      <th>WRK_ZONE</th>\n",
       "      <th>WKDY</th>\n",
       "      <th>INT_HWY</th>\n",
       "      <th>LGTCON_day</th>\n",
       "      <th>LEVEL</th>\n",
       "      <th>SPD_LIM</th>\n",
       "      <th>SUR_COND_dry</th>\n",
       "      <th>TRAF_two_way</th>\n",
       "      <th>WEATHER_adverse</th>\n",
       "      <th>MAX_SEV</th>\n",
       "    </tr>\n",
       "  </thead>\n",
       "  <tbody>\n",
       "    <tr>\n",
       "      <th>0</th>\n",
       "      <td>1</td>\n",
       "      <td>0</td>\n",
       "      <td>1</td>\n",
       "      <td>1</td>\n",
       "      <td>0</td>\n",
       "      <td>1</td>\n",
       "      <td>70</td>\n",
       "      <td>0</td>\n",
       "      <td>0</td>\n",
       "      <td>1</td>\n",
       "      <td>0</td>\n",
       "    </tr>\n",
       "    <tr>\n",
       "      <th>1</th>\n",
       "      <td>1</td>\n",
       "      <td>0</td>\n",
       "      <td>1</td>\n",
       "      <td>0</td>\n",
       "      <td>0</td>\n",
       "      <td>0</td>\n",
       "      <td>55</td>\n",
       "      <td>0</td>\n",
       "      <td>1</td>\n",
       "      <td>0</td>\n",
       "      <td>1</td>\n",
       "    </tr>\n",
       "    <tr>\n",
       "      <th>2</th>\n",
       "      <td>1</td>\n",
       "      <td>0</td>\n",
       "      <td>0</td>\n",
       "      <td>0</td>\n",
       "      <td>0</td>\n",
       "      <td>0</td>\n",
       "      <td>35</td>\n",
       "      <td>0</td>\n",
       "      <td>0</td>\n",
       "      <td>1</td>\n",
       "      <td>0</td>\n",
       "    </tr>\n",
       "    <tr>\n",
       "      <th>3</th>\n",
       "      <td>1</td>\n",
       "      <td>0</td>\n",
       "      <td>1</td>\n",
       "      <td>0</td>\n",
       "      <td>0</td>\n",
       "      <td>1</td>\n",
       "      <td>35</td>\n",
       "      <td>0</td>\n",
       "      <td>0</td>\n",
       "      <td>1</td>\n",
       "      <td>0</td>\n",
       "    </tr>\n",
       "    <tr>\n",
       "      <th>4</th>\n",
       "      <td>1</td>\n",
       "      <td>0</td>\n",
       "      <td>1</td>\n",
       "      <td>0</td>\n",
       "      <td>0</td>\n",
       "      <td>0</td>\n",
       "      <td>25</td>\n",
       "      <td>0</td>\n",
       "      <td>0</td>\n",
       "      <td>1</td>\n",
       "      <td>1</td>\n",
       "    </tr>\n",
       "  </tbody>\n",
       "</table>\n",
       "</div>"
      ],
      "text/plain": [
       "   RushHour  WRK_ZONE  WKDY  INT_HWY  LGTCON_day  LEVEL  SPD_LIM  \\\n",
       "0         1         0     1        1           0      1       70   \n",
       "1         1         0     1        0           0      0       55   \n",
       "2         1         0     0        0           0      0       35   \n",
       "3         1         0     1        0           0      1       35   \n",
       "4         1         0     1        0           0      0       25   \n",
       "\n",
       "   SUR_COND_dry  TRAF_two_way  WEATHER_adverse  MAX_SEV  \n",
       "0             0             0                1        0  \n",
       "1             0             1                0        1  \n",
       "2             0             0                1        0  \n",
       "3             0             0                1        0  \n",
       "4             0             0                1        1  "
      ]
     },
     "execution_count": 7,
     "metadata": {},
     "output_type": "execute_result"
    }
   ],
   "source": [
    "df=pd.read_csv('accidents.csv')\n",
    "df.head()\n"
   ]
  },
  {
   "cell_type": "markdown",
   "metadata": {},
   "source": [
    "#### NO OF Rows and Columns in the data"
   ]
  },
  {
   "cell_type": "code",
   "execution_count": 8,
   "metadata": {
    "scrolled": true
   },
   "outputs": [
    {
     "data": {
      "text/plain": [
       "(600, 11)"
      ]
     },
     "execution_count": 8,
     "metadata": {},
     "output_type": "execute_result"
    }
   ],
   "source": [
    "df.shape"
   ]
  },
  {
   "cell_type": "markdown",
   "metadata": {},
   "source": [
    "#### Summary of the data"
   ]
  },
  {
   "cell_type": "code",
   "execution_count": 9,
   "metadata": {
    "scrolled": true
   },
   "outputs": [
    {
     "data": {
      "text/html": [
       "<div>\n",
       "<style scoped>\n",
       "    .dataframe tbody tr th:only-of-type {\n",
       "        vertical-align: middle;\n",
       "    }\n",
       "\n",
       "    .dataframe tbody tr th {\n",
       "        vertical-align: top;\n",
       "    }\n",
       "\n",
       "    .dataframe thead th {\n",
       "        text-align: right;\n",
       "    }\n",
       "</style>\n",
       "<table border=\"1\" class=\"dataframe\">\n",
       "  <thead>\n",
       "    <tr style=\"text-align: right;\">\n",
       "      <th></th>\n",
       "      <th>RushHour</th>\n",
       "      <th>WRK_ZONE</th>\n",
       "      <th>WKDY</th>\n",
       "      <th>INT_HWY</th>\n",
       "      <th>LGTCON_day</th>\n",
       "      <th>LEVEL</th>\n",
       "      <th>SPD_LIM</th>\n",
       "      <th>SUR_COND_dry</th>\n",
       "      <th>TRAF_two_way</th>\n",
       "      <th>WEATHER_adverse</th>\n",
       "      <th>MAX_SEV</th>\n",
       "    </tr>\n",
       "  </thead>\n",
       "  <tbody>\n",
       "    <tr>\n",
       "      <th>count</th>\n",
       "      <td>600.000000</td>\n",
       "      <td>600.000000</td>\n",
       "      <td>600.000000</td>\n",
       "      <td>600.000000</td>\n",
       "      <td>600.00000</td>\n",
       "      <td>600.000000</td>\n",
       "      <td>600.000000</td>\n",
       "      <td>600.000000</td>\n",
       "      <td>600.000000</td>\n",
       "      <td>600.000000</td>\n",
       "      <td>600.000000</td>\n",
       "    </tr>\n",
       "    <tr>\n",
       "      <th>mean</th>\n",
       "      <td>0.458333</td>\n",
       "      <td>0.011667</td>\n",
       "      <td>0.795000</td>\n",
       "      <td>0.146667</td>\n",
       "      <td>0.73000</td>\n",
       "      <td>0.230000</td>\n",
       "      <td>43.291667</td>\n",
       "      <td>0.785000</td>\n",
       "      <td>0.583333</td>\n",
       "      <td>0.161667</td>\n",
       "      <td>0.513333</td>\n",
       "    </tr>\n",
       "    <tr>\n",
       "      <th>std</th>\n",
       "      <td>0.498677</td>\n",
       "      <td>0.107470</td>\n",
       "      <td>0.404038</td>\n",
       "      <td>0.495545</td>\n",
       "      <td>0.44433</td>\n",
       "      <td>0.421184</td>\n",
       "      <td>12.269508</td>\n",
       "      <td>0.411165</td>\n",
       "      <td>0.493418</td>\n",
       "      <td>0.368452</td>\n",
       "      <td>0.500239</td>\n",
       "    </tr>\n",
       "    <tr>\n",
       "      <th>min</th>\n",
       "      <td>0.000000</td>\n",
       "      <td>0.000000</td>\n",
       "      <td>0.000000</td>\n",
       "      <td>0.000000</td>\n",
       "      <td>0.00000</td>\n",
       "      <td>0.000000</td>\n",
       "      <td>10.000000</td>\n",
       "      <td>0.000000</td>\n",
       "      <td>0.000000</td>\n",
       "      <td>0.000000</td>\n",
       "      <td>0.000000</td>\n",
       "    </tr>\n",
       "    <tr>\n",
       "      <th>25%</th>\n",
       "      <td>0.000000</td>\n",
       "      <td>0.000000</td>\n",
       "      <td>1.000000</td>\n",
       "      <td>0.000000</td>\n",
       "      <td>0.00000</td>\n",
       "      <td>0.000000</td>\n",
       "      <td>35.000000</td>\n",
       "      <td>1.000000</td>\n",
       "      <td>0.000000</td>\n",
       "      <td>0.000000</td>\n",
       "      <td>0.000000</td>\n",
       "    </tr>\n",
       "    <tr>\n",
       "      <th>50%</th>\n",
       "      <td>0.000000</td>\n",
       "      <td>0.000000</td>\n",
       "      <td>1.000000</td>\n",
       "      <td>0.000000</td>\n",
       "      <td>1.00000</td>\n",
       "      <td>0.000000</td>\n",
       "      <td>40.000000</td>\n",
       "      <td>1.000000</td>\n",
       "      <td>1.000000</td>\n",
       "      <td>0.000000</td>\n",
       "      <td>1.000000</td>\n",
       "    </tr>\n",
       "    <tr>\n",
       "      <th>75%</th>\n",
       "      <td>1.000000</td>\n",
       "      <td>0.000000</td>\n",
       "      <td>1.000000</td>\n",
       "      <td>0.000000</td>\n",
       "      <td>1.00000</td>\n",
       "      <td>0.000000</td>\n",
       "      <td>55.000000</td>\n",
       "      <td>1.000000</td>\n",
       "      <td>1.000000</td>\n",
       "      <td>0.000000</td>\n",
       "      <td>1.000000</td>\n",
       "    </tr>\n",
       "    <tr>\n",
       "      <th>max</th>\n",
       "      <td>1.000000</td>\n",
       "      <td>1.000000</td>\n",
       "      <td>1.000000</td>\n",
       "      <td>9.000000</td>\n",
       "      <td>1.00000</td>\n",
       "      <td>1.000000</td>\n",
       "      <td>75.000000</td>\n",
       "      <td>1.000000</td>\n",
       "      <td>1.000000</td>\n",
       "      <td>1.000000</td>\n",
       "      <td>1.000000</td>\n",
       "    </tr>\n",
       "  </tbody>\n",
       "</table>\n",
       "</div>"
      ],
      "text/plain": [
       "         RushHour    WRK_ZONE        WKDY     INT_HWY  LGTCON_day       LEVEL  \\\n",
       "count  600.000000  600.000000  600.000000  600.000000   600.00000  600.000000   \n",
       "mean     0.458333    0.011667    0.795000    0.146667     0.73000    0.230000   \n",
       "std      0.498677    0.107470    0.404038    0.495545     0.44433    0.421184   \n",
       "min      0.000000    0.000000    0.000000    0.000000     0.00000    0.000000   \n",
       "25%      0.000000    0.000000    1.000000    0.000000     0.00000    0.000000   \n",
       "50%      0.000000    0.000000    1.000000    0.000000     1.00000    0.000000   \n",
       "75%      1.000000    0.000000    1.000000    0.000000     1.00000    0.000000   \n",
       "max      1.000000    1.000000    1.000000    9.000000     1.00000    1.000000   \n",
       "\n",
       "          SPD_LIM  SUR_COND_dry  TRAF_two_way  WEATHER_adverse     MAX_SEV  \n",
       "count  600.000000    600.000000    600.000000       600.000000  600.000000  \n",
       "mean    43.291667      0.785000      0.583333         0.161667    0.513333  \n",
       "std     12.269508      0.411165      0.493418         0.368452    0.500239  \n",
       "min     10.000000      0.000000      0.000000         0.000000    0.000000  \n",
       "25%     35.000000      1.000000      0.000000         0.000000    0.000000  \n",
       "50%     40.000000      1.000000      1.000000         0.000000    1.000000  \n",
       "75%     55.000000      1.000000      1.000000         0.000000    1.000000  \n",
       "max     75.000000      1.000000      1.000000         1.000000    1.000000  "
      ]
     },
     "execution_count": 9,
     "metadata": {},
     "output_type": "execute_result"
    }
   ],
   "source": [
    "df.describe()"
   ]
  },
  {
   "cell_type": "markdown",
   "metadata": {},
   "source": [
    "#### check to if DATA is in which Form Numeric or Categorical?"
   ]
  },
  {
   "cell_type": "code",
   "execution_count": 10,
   "metadata": {},
   "outputs": [
    {
     "name": "stdout",
     "output_type": "stream",
     "text": [
      "<class 'pandas.core.frame.DataFrame'>\n",
      "RangeIndex: 600 entries, 0 to 599\n",
      "Data columns (total 11 columns):\n",
      "RushHour           600 non-null int64\n",
      "WRK_ZONE           600 non-null int64\n",
      "WKDY               600 non-null int64\n",
      "INT_HWY            600 non-null int64\n",
      "LGTCON_day         600 non-null int64\n",
      "LEVEL              600 non-null int64\n",
      "SPD_LIM            600 non-null int64\n",
      "SUR_COND_dry       600 non-null int64\n",
      "TRAF_two_way       600 non-null int64\n",
      "WEATHER_adverse    600 non-null int64\n",
      "MAX_SEV            600 non-null int64\n",
      "dtypes: int64(11)\n",
      "memory usage: 51.6 KB\n"
     ]
    }
   ],
   "source": [
    "df.info()"
   ]
  },
  {
   "cell_type": "code",
   "execution_count": 14,
   "metadata": {},
   "outputs": [],
   "source": [
    "#Convert relevant variables to categorical variables\n",
    "df['RushHour'] = df['RushHour'].astype('category')\n",
    "df['WRK_ZONE'] = df['WRK_ZONE'].astype('category')\n",
    "df['WKDY'] = df['WKDY'].astype('category')\n",
    "df['INT_HWY'] = df['INT_HWY'].astype('category')\n",
    "df['LGTCON_day'] = df['LGTCON_day'].astype('category')\n",
    "df['LEVEL'] = df['LEVEL'].astype('category')\n",
    "df['SUR_COND_dry'] = df['SUR_COND_dry'].astype('category')\n",
    "df['TRAF_two_way'] = df['TRAF_two_way'].astype('category')\n",
    "df['WEATHER_adverse'] = df['WEATHER_adverse'].astype('category')\n",
    "df['MAX_SEV'] = df['MAX_SEV'].astype('category')"
   ]
  },
  {
   "cell_type": "markdown",
   "metadata": {},
   "source": [
    "#### Check if any Null values?"
   ]
  },
  {
   "cell_type": "code",
   "execution_count": 15,
   "metadata": {
    "scrolled": true
   },
   "outputs": [
    {
     "data": {
      "text/plain": [
       "RushHour           0\n",
       "WRK_ZONE           0\n",
       "WKDY               0\n",
       "INT_HWY            0\n",
       "LGTCON_day         0\n",
       "LEVEL              0\n",
       "SPD_LIM            0\n",
       "SUR_COND_dry       0\n",
       "TRAF_two_way       0\n",
       "WEATHER_adverse    0\n",
       "MAX_SEV            0\n",
       "dtype: int64"
      ]
     },
     "execution_count": 15,
     "metadata": {},
     "output_type": "execute_result"
    }
   ],
   "source": [
    "df.isnull().sum()"
   ]
  },
  {
   "cell_type": "markdown",
   "metadata": {},
   "source": [
    "#### NO Null Values in the data"
   ]
  },
  {
   "cell_type": "code",
   "execution_count": 17,
   "metadata": {},
   "outputs": [
    {
     "data": {
      "text/plain": [
       "1    0.513333\n",
       "0    0.486667\n",
       "Name: MAX_SEV, dtype: float64"
      ]
     },
     "execution_count": 17,
     "metadata": {},
     "output_type": "execute_result"
    }
   ],
   "source": [
    "df['MAX_SEV'].value_counts(normalize=True)"
   ]
  },
  {
   "cell_type": "markdown",
   "metadata": {},
   "source": [
    "#### Grouping Based On Outcome"
   ]
  },
  {
   "cell_type": "code",
   "execution_count": 18,
   "metadata": {
    "scrolled": true
   },
   "outputs": [
    {
     "data": {
      "text/html": [
       "<div>\n",
       "<style scoped>\n",
       "    .dataframe tbody tr th:only-of-type {\n",
       "        vertical-align: middle;\n",
       "    }\n",
       "\n",
       "    .dataframe tbody tr th {\n",
       "        vertical-align: top;\n",
       "    }\n",
       "\n",
       "    .dataframe thead th {\n",
       "        text-align: right;\n",
       "    }\n",
       "</style>\n",
       "<table border=\"1\" class=\"dataframe\">\n",
       "  <thead>\n",
       "    <tr style=\"text-align: right;\">\n",
       "      <th></th>\n",
       "      <th>SPD_LIM</th>\n",
       "    </tr>\n",
       "    <tr>\n",
       "      <th>MAX_SEV</th>\n",
       "      <th></th>\n",
       "    </tr>\n",
       "  </thead>\n",
       "  <tbody>\n",
       "    <tr>\n",
       "      <th>0</th>\n",
       "      <td>43.750000</td>\n",
       "    </tr>\n",
       "    <tr>\n",
       "      <th>1</th>\n",
       "      <td>42.857143</td>\n",
       "    </tr>\n",
       "  </tbody>\n",
       "</table>\n",
       "</div>"
      ],
      "text/plain": [
       "           SPD_LIM\n",
       "MAX_SEV           \n",
       "0        43.750000\n",
       "1        42.857143"
      ]
     },
     "execution_count": 18,
     "metadata": {},
     "output_type": "execute_result"
    }
   ],
   "source": [
    "#Group numerical variables by mean\n",
    "df.groupby(\"MAX_SEV\").mean()"
   ]
  },
  {
   "cell_type": "markdown",
   "metadata": {},
   "source": [
    "### Histogram on the Data"
   ]
  },
  {
   "cell_type": "code",
   "execution_count": 19,
   "metadata": {
    "scrolled": false
   },
   "outputs": [
    {
     "data": {
      "image/png": "[encoded data removed]",
      "text/plain": [
       "<matplotlib.figure.Figure at 0x1afe4757198>"
      ]
     },
     "metadata": {},
     "output_type": "display_data"
    }
   ],
   "source": [
    "df.hist(figsize=(10,8), grid=False)\n",
    "plt.show()"
   ]
  },
  {
   "cell_type": "markdown",
   "metadata": {},
   "source": [
    "#### BOXPLOT on the data (Outlier Detection)"
   ]
  },
  {
   "cell_type": "code",
   "execution_count": 20,
   "metadata": {},
   "outputs": [
    {
     "data": {
      "text/plain": [
       "SPD_LIM    AxesSubplot(0.125,0.657941;0.227941x0.222059)\n",
       "dtype: object"
      ]
     },
     "execution_count": 20,
     "metadata": {},
     "output_type": "execute_result"
    },
    {
     "data": {
      "image/png": "[encoded data removed]",
      "text/plain": [
       "<matplotlib.figure.Figure at 0x1afe4925780>"
      ]
     },
     "metadata": {},
     "output_type": "display_data"
    }
   ],
   "source": [
    "df.plot(kind= 'box' , subplots=True, layout=(3,3), sharex=False, sharey=False, figsize=(10,8))"
   ]
  },
  {
   "cell_type": "markdown",
   "metadata": {},
   "source": [
    "#### Featues"
   ]
  },
  {
   "cell_type": "code",
   "execution_count": 21,
   "metadata": {
    "scrolled": true
   },
   "outputs": [],
   "source": [
    "#Create dataframes for X and Y variables\n",
    "x = df.drop([\"MAX_SEV\"], axis=1)\n",
    "y = df[['MAX_SEV']]\n"
   ]
  },
  {
   "cell_type": "code",
   "execution_count": 22,
   "metadata": {},
   "outputs": [],
   "source": [
    "##Convert x to dummy variables\n",
    "x=pd.get_dummies(x, drop_first=True)"
   ]
  },
  {
   "cell_type": "code",
   "execution_count": 23,
   "metadata": {},
   "outputs": [],
   "source": [
    "##Train test split\n",
    "from sklearn.model_selection import train_test_split\n",
    "seed = 7\n",
    "np.random.seed(seed)\n",
    "\n",
    "X_train, X_test, y_train, y_test = train_test_split(x, y, test_size=0.30, random_state = 123)"
   ]
  },
  {
   "cell_type": "markdown",
   "metadata": {},
   "source": [
    "#### Feature Scaling"
   ]
  },
  {
   "cell_type": "code",
   "execution_count": 24,
   "metadata": {},
   "outputs": [],
   "source": [
    "from sklearn.preprocessing import StandardScaler"
   ]
  },
  {
   "cell_type": "code",
   "execution_count": 25,
   "metadata": {},
   "outputs": [],
   "source": [
    "sc=StandardScaler()"
   ]
  },
  {
   "cell_type": "code",
   "execution_count": 26,
   "metadata": {},
   "outputs": [],
   "source": [
    "X_train = sc.fit_transform(X_train)\n",
    "X_test = sc.transform(X_test)"
   ]
  },
  {
   "cell_type": "markdown",
   "metadata": {},
   "source": [
    "#### Classifier Invoking"
   ]
  },
  {
   "cell_type": "code",
   "execution_count": 27,
   "metadata": {},
   "outputs": [
    {
     "name": "stderr",
     "output_type": "stream",
     "text": [
      "c:\\python\\lib\\site-packages\\sklearn\\utils\\validation.py:578: DataConversionWarning: A column-vector y was passed when a 1d array was expected. Please change the shape of y to (n_samples, ), for example using ravel().\n",
      "  y = column_or_1d(y, warn=True)\n"
     ]
    },
    {
     "data": {
      "text/plain": [
       "GaussianNB(priors=None)"
      ]
     },
     "execution_count": 27,
     "metadata": {},
     "output_type": "execute_result"
    }
   ],
   "source": [
    "classifier = GaussianNB()\n",
    "classifier.fit(X_train, y_train)\n"
   ]
  },
  {
   "cell_type": "code",
   "execution_count": 28,
   "metadata": {},
   "outputs": [],
   "source": [
    "y_pred_G = classifier.predict(X_test)"
   ]
  },
  {
   "cell_type": "markdown",
   "metadata": {},
   "source": [
    "#### Evaluation Metrics"
   ]
  },
  {
   "cell_type": "code",
   "execution_count": 29,
   "metadata": {
    "scrolled": false
   },
   "outputs": [
    {
     "data": {
      "text/plain": [
       "array([[24, 53],\n",
       "       [36, 67]], dtype=int64)"
      ]
     },
     "execution_count": 29,
     "metadata": {},
     "output_type": "execute_result"
    }
   ],
   "source": [
    "cm_G = confusion_matrix(y_test, y_pred_G)\n",
    "cm_G"
   ]
  },
  {
   "cell_type": "code",
   "execution_count": 30,
   "metadata": {},
   "outputs": [
    {
     "name": "stderr",
     "output_type": "stream",
     "text": [
      "c:\\python\\lib\\site-packages\\sklearn\\utils\\validation.py:578: DataConversionWarning: A column-vector y was passed when a 1d array was expected. Please change the shape of y to (n_samples, ), for example using ravel().\n",
      "  y = column_or_1d(y, warn=True)\n"
     ]
    },
    {
     "data": {
      "text/plain": [
       "BernoulliNB(alpha=1, binarize=0.0, class_prior=None, fit_prior=True)"
      ]
     },
     "execution_count": 30,
     "metadata": {},
     "output_type": "execute_result"
    }
   ],
   "source": [
    "from sklearn.naive_bayes import BernoulliNB\n",
    "\n",
    "optimal_alpha = 1\n",
    "NB_optimal = BernoulliNB(alpha=optimal_alpha)\n",
    "\n",
    "# fitting the model\n",
    "NB_optimal.fit(X_train, y_train)"
   ]
  },
  {
   "cell_type": "code",
   "execution_count": 32,
   "metadata": {},
   "outputs": [],
   "source": [
    "y_pred_B = NB_optimal.predict(X_test)"
   ]
  },
  {
   "cell_type": "code",
   "execution_count": 48,
   "metadata": {},
   "outputs": [
    {
     "data": {
      "text/plain": [
       "array([[112.,  98.,   1., 171.,  29.,   0., 146.,  47., 158., 125.,  44.],\n",
       "       [100.,  90.,   1., 156.,  23.,   0., 154.,  50., 173., 124.,  19.]])"
      ]
     },
     "execution_count": 48,
     "metadata": {},
     "output_type": "execute_result"
    }
   ],
   "source": [
    "NB_optimal.feature_count_"
   ]
  },
  {
   "cell_type": "code",
   "execution_count": 53,
   "metadata": {},
   "outputs": [
    {
     "data": {
      "text/plain": [
       "[('WRK_ZONE_1', 1.0),\n",
       " ('WKDY_1', 156.0),\n",
       " ('WEATHER_adverse_1', 19.0),\n",
       " ('TRAF_two_way_1', 124.0),\n",
       " ('SUR_COND_dry_1', 173.0),\n",
       " ('SPD_LIM', 100.0),\n",
       " ('RushHour_1', 90.0),\n",
       " ('LGTCON_day_1', 154.0),\n",
       " ('LEVEL_1', 50.0),\n",
       " ('INT_HWY_9', 0.0),\n",
       " ('INT_HWY_1', 23.0)]"
      ]
     },
     "execution_count": 53,
     "metadata": {},
     "output_type": "execute_result"
    }
   ],
   "source": [
    "sorted(zip(NB_optimal.feature_count_[1], x.columns), reverse=True)"
   ]
  },
  {
   "cell_type": "code",
   "execution_count": 54,
   "metadata": {},
   "outputs": [
    {
     "data": {
      "text/plain": [
       "[(173.0, 'SUR_COND_dry_1'),\n",
       " (156.0, 'WKDY_1'),\n",
       " (154.0, 'LGTCON_day_1'),\n",
       " (124.0, 'TRAF_two_way_1'),\n",
       " (100.0, 'SPD_LIM'),\n",
       " (90.0, 'RushHour_1'),\n",
       " (50.0, 'LEVEL_1'),\n",
       " (23.0, 'INT_HWY_1'),\n",
       " (19.0, 'WEATHER_adverse_1'),\n",
       " (1.0, 'WRK_ZONE_1'),\n",
       " (0.0, 'INT_HWY_9')]"
      ]
     },
     "execution_count": 54,
     "metadata": {},
     "output_type": "execute_result"
    }
   ],
   "source": [
    "topn_class2 = sorted(zip(NB_optimal.feature_count_[1], x.columns),reverse=True)[:12]\n",
    "topn_class2"
   ]
  },
  {
   "cell_type": "code",
   "execution_count": 55,
   "metadata": {},
   "outputs": [
    {
     "data": {
      "text/plain": [
       "[(171.0, 'WKDY_1'),\n",
       " (158.0, 'SUR_COND_dry_1'),\n",
       " (146.0, 'LGTCON_day_1'),\n",
       " (125.0, 'TRAF_two_way_1'),\n",
       " (112.0, 'SPD_LIM'),\n",
       " (98.0, 'RushHour_1'),\n",
       " (47.0, 'LEVEL_1'),\n",
       " (44.0, 'WEATHER_adverse_1'),\n",
       " (29.0, 'INT_HWY_1'),\n",
       " (1.0, 'WRK_ZONE_1'),\n",
       " (0.0, 'INT_HWY_9')]"
      ]
     },
     "execution_count": 55,
     "metadata": {},
     "output_type": "execute_result"
    }
   ],
   "source": [
    "topn_class1 = sorted(zip(NB_optimal.feature_count_[0], x.columns),reverse=True)[:12]\n",
    "topn_class1"
   ]
  },
  {
   "cell_type": "code",
   "execution_count": 35,
   "metadata": {},
   "outputs": [
    {
     "name": "stdout",
     "output_type": "stream",
     "text": [
      "[[24 53]\n",
      " [36 67]]\n",
      "[[27 50]\n",
      " [44 59]]\n"
     ]
    }
   ],
   "source": [
    "cm_G = confusion_matrix(y_test, y_pred_G)\n",
    "cm_B = confusion_matrix(y_test, y_pred_B)\n",
    "\n",
    "print(cm_G)\n",
    "print(cm_B)"
   ]
  },
  {
   "cell_type": "code",
   "execution_count": 36,
   "metadata": {},
   "outputs": [],
   "source": [
    "from sklearn.model_selection import train_test_split, GridSearchCV, StratifiedKFold\n",
    "from sklearn.metrics import roc_curve, precision_recall_curve, auc, make_scorer, recall_score, accuracy_score, precision_score, confusion_matrix\n",
    "\n"
   ]
  },
  {
   "cell_type": "code",
   "execution_count": 37,
   "metadata": {},
   "outputs": [],
   "source": [
    "y_scores = NB_optimal.predict_proba(X_test)[:, 1]"
   ]
  },
  {
   "cell_type": "code",
   "execution_count": 38,
   "metadata": {},
   "outputs": [],
   "source": [
    "p, r, thresholds = precision_recall_curve(y_test, y_scores)"
   ]
  },
  {
   "cell_type": "code",
   "execution_count": 39,
   "metadata": {},
   "outputs": [],
   "source": [
    "def adjusted_classes(y_scores, t):\n",
    "    \"\"\"\n",
    "    This function adjusts class predictions based on the prediction threshold (t).\n",
    "    Will only work for binary classification problems.\n",
    "    \"\"\"\n",
    "    return [1 if y >= t else 0 for y in y_scores]\n",
    "\n",
    "def precision_recall_threshold(p, r, thresholds, t=0.5):\n",
    "    \"\"\"\n",
    "    plots the precision recall curve and shows the current value for each\n",
    "    by identifying the classifier's threshold (t).\n",
    "    \"\"\"\n",
    "    \n",
    "    # generate new class predictions based on the adjusted_classes\n",
    "    # function above and view the resulting confusion matrix.\n",
    "    y_pred_adj = adjusted_classes(y_scores, t)\n",
    "    print(pd.DataFrame(confusion_matrix(y_test, y_pred_adj),\n",
    "                       columns=['pred_neg', 'pred_pos'], \n",
    "                       index=['neg', 'pos']))\n",
    "    \n",
    "    \n",
    "   "
   ]
  },
  {
   "cell_type": "code",
   "execution_count": 40,
   "metadata": {},
   "outputs": [
    {
     "name": "stdout",
     "output_type": "stream",
     "text": [
      "     pred_neg  pred_pos\n",
      "neg         4        73\n",
      "pos         3       100\n"
     ]
    }
   ],
   "source": [
    "precision_recall_threshold(p, r, thresholds, 0.17)"
   ]
  },
  {
   "cell_type": "code",
   "execution_count": 41,
   "metadata": {},
   "outputs": [],
   "source": [
    "def plot_precision_recall_vs_threshold(precisions, recalls, thresholds):\n",
    "    \"\"\"\n",
    "    Modified from:\n",
    "    Hands-On Machine learning with Scikit-Learn\n",
    "    and TensorFlow; p.89\n",
    "    \"\"\"\n",
    "    plt.figure(figsize=(8, 8))\n",
    "    plt.title(\"Precision and Recall Scores as a function of the decision threshold\")\n",
    "    plt.plot(thresholds, precisions[:-1], \"b--\", label=\"Precision\")\n",
    "    plt.plot(thresholds, recalls[:-1], \"g-\", label=\"Recall\")\n",
    "    plt.ylabel(\"Score\")\n",
    "    plt.xlabel(\"Decision Threshold\")\n",
    "    plt.legend(loc='best')"
   ]
  },
  {
   "cell_type": "code",
   "execution_count": 42,
   "metadata": {},
   "outputs": [
    {
     "data": {
      "image/png": "[encoded data removed]",
      "text/plain": [
       "<matplotlib.figure.Figure at 0x1afe4fff6d8>"
      ]
     },
     "metadata": {},
     "output_type": "display_data"
    }
   ],
   "source": [
    "# use the same p, r, thresholds that were previously calculated\n",
    "plot_precision_recall_vs_threshold(p, r, thresholds)"
   ]
  },
  {
   "cell_type": "code",
   "execution_count": 43,
   "metadata": {},
   "outputs": [
    {
     "data": {
      "text/plain": [
       "array([0.5484868 , 0.59968081, 0.49378199, 0.55991013, 0.4726656 ,\n",
       "       0.47700642, 0.59968081, 0.63292893, 0.54282875, 0.59968081,\n",
       "       0.48943137, 0.38988729, 0.49054091, 0.51346956, 0.56778504,\n",
       "       0.54404746, 0.58345417, 0.64582662, 0.61718968])"
      ]
     },
     "execution_count": 43,
     "metadata": {},
     "output_type": "execute_result"
    }
   ],
   "source": [
    "# store the predicted probabilities for class 1\n",
    "y_pred_prob = NB_optimal.predict_proba(X_test)[:, 1]\n",
    "y_pred_prob[1:20]"
   ]
  },
  {
   "cell_type": "code",
   "execution_count": 44,
   "metadata": {},
   "outputs": [
    {
     "data": {
      "text/plain": [
       "Text(0,0.5,'Frequency')"
      ]
     },
     "execution_count": 44,
     "metadata": {},
     "output_type": "execute_result"
    },
    {
     "data": {
      "image/png": "[encoded data removed]",
      "text/plain": [
       "<matplotlib.figure.Figure at 0x1afe4fffe48>"
      ]
     },
     "metadata": {},
     "output_type": "display_data"
    }
   ],
   "source": [
    "# histogram of predicted probabilities\n",
    "\n",
    "# 8 bins\n",
    "plt.hist(y_pred_prob, bins=20)\n",
    "\n",
    "# x-axis limit from 0 to 1\n",
    "plt.xlim(0,1)\n",
    "plt.title('Histogram of predicted probabilities')\n",
    "plt.xlabel('Predicted probability of diabetes')\n",
    "plt.ylabel('Frequency')"
   ]
  },
  {
   "cell_type": "code",
   "execution_count": 47,
   "metadata": {},
   "outputs": [
    {
     "name": "stdout",
     "output_type": "stream",
     "text": [
      "\n",
      "******** For i = 0.3 ******\n",
      "Our testing accuracy is 0.53\n",
      "[[14 63]\n",
      " [22 81]]\n",
      "\n",
      "******** For i = 0.4 ******\n",
      "Our testing accuracy is 0.52\n",
      "[[20 57]\n",
      " [29 74]]\n",
      "\n",
      "******** For i = 0.41 ******\n",
      "Our testing accuracy is 0.52\n",
      "[[20 57]\n",
      " [29 74]]\n",
      "\n",
      "******** For i = 0.45 ******\n",
      "Our testing accuracy is 0.52\n",
      "[[23 54]\n",
      " [32 71]]\n",
      "\n",
      "******** For i = 0.5 ******\n",
      "Our testing accuracy is 0.51\n",
      "[[24 53]\n",
      " [36 67]]\n",
      "\n",
      "******** For i = 0.55 ******\n",
      "Our testing accuracy is 0.51\n",
      "[[27 50]\n",
      " [39 64]]\n",
      "\n",
      "******** For i = 0.6 ******\n",
      "Our testing accuracy is 0.47\n",
      "[[29 48]\n",
      " [47 56]]\n"
     ]
    }
   ],
   "source": [
    "## Changing the cut off value for prediction\n",
    "pred_proba_df = pd.DataFrame(classifier.predict_proba(X_test))\n",
    "threshold_list = [0.3,0.4,0.41, 0.45, 0.5,0.55, 0.6]\n",
    "for i in threshold_list:\n",
    "    print ('\\n******** For i = {} ******'.format(i))\n",
    "    y_test_pred = pred_proba_df.applymap(lambda x: 1 if x>i else 0)\n",
    "    test_accuracy = metrics.accuracy_score(y_test.as_matrix().reshape(y_test.as_matrix().size,1),\n",
    "                                           y_test_pred.iloc[:,1].as_matrix().reshape(y_test_pred.iloc[:,1].as_matrix().size,1))\n",
    "    print('Our testing accuracy is {:.2f}'.format(test_accuracy))\n",
    "\n",
    "    print(confusion_matrix(y_test.as_matrix().reshape(y_test.as_matrix().size,1),\n",
    "                           y_test_pred.iloc[:,1].as_matrix().reshape(y_test_pred.iloc[:,1].as_matrix().size,1)))"
   ]
  },
  {
   "cell_type": "code",
   "execution_count": null,
   "metadata": {},
   "outputs": [],
   "source": []
  }
 ],
 "metadata": {
  "kernelspec": {
   "display_name": "Python 3",
   "language": "python",
   "name": "python3"
  },
  "language_info": {
   "codemirror_mode": {
    "name": "ipython",
    "version": 3
   },
   "file_extension": ".py",
   "mimetype": "text/x-python",
   "name": "python",
   "nbconvert_exporter": "python",
   "pygments_lexer": "ipython3",
   "version": "3.7.3"
  }
 },
 "nbformat": 4,
 "nbformat_minor": 2
}
